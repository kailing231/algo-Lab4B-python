{
 "cells": [
  {
   "cell_type": "markdown",
   "metadata": {},
   "source": [
    "# Q3: Application of BFS to flight scheduling"
   ]
  },
  {
   "cell_type": "code",
   "execution_count": 1,
   "metadata": {},
   "outputs": [],
   "source": [
    "# import libraries\n",
    "import numpy as np\n",
    "import matplotlib.pyplot as plt\n",
    "import pandas as pd\n",
    "# visualise graph\n",
    "from pyvis import network as net\n",
    "import networkx as nx"
   ]
  },
  {
   "cell_type": "markdown",
   "metadata": {},
   "source": [
    "pyvis: https://pyvis.readthedocs.io/en/latest/tutorial.html\n",
    "https://pyvis.readthedocs.io/en/latest/documentation.html"
   ]
  },
  {
   "cell_type": "code",
   "execution_count": 2,
   "metadata": {
    "scrolled": true
   },
   "outputs": [],
   "source": [
    "# graph with 10 cities\n",
    "df_cities_10 = pd.read_csv('cities10.csv')\n",
    "df_flights_10 = pd.read_csv('flights10.csv')"
   ]
  },
  {
   "cell_type": "markdown",
   "metadata": {},
   "source": [
    "## Step 1 Representation of graph"
   ]
  },
  {
   "cell_type": "code",
   "execution_count": 3,
   "metadata": {},
   "outputs": [],
   "source": [
    "vis_graph10 = net.Network(notebook=True)\n",
    "\n",
    "# add nodes\n",
    "for city in df_cities_10['City']:\n",
    "    vis_graph10.add_node(city)\n",
    "    \n",
    "# add edges\n",
    "for i, flight in df_flights_10.iterrows():\n",
    "    vis_graph10.add_edge(flight['SrcCity'],flight['DestCity'])"
   ]
  },
  {
   "cell_type": "code",
   "execution_count": 4,
   "metadata": {},
   "outputs": [
    {
     "data": {
      "text/html": [
       "\n",
       "        <iframe\n",
       "            width=\"500px\"\n",
       "            height=\"500px\"\n",
       "            src=\"graph10.html\"\n",
       "            frameborder=\"0\"\n",
       "            allowfullscreen\n",
       "        ></iframe>\n",
       "        "
      ],
      "text/plain": [
       "<IPython.lib.display.IFrame at 0x16087ac2978>"
      ]
     },
     "execution_count": 4,
     "metadata": {},
     "output_type": "execute_result"
    }
   ],
   "source": [
    "# show graph\n",
    "vis_graph10.toggle_physics(False)\n",
    "vis_graph10.show(\"graph10.html\")"
   ]
  },
  {
   "cell_type": "markdown",
   "metadata": {},
   "source": [
    "## Step 2 Breadth-first search (BFS) "
   ]
  },
  {
   "cell_type": "code",
   "execution_count": 5,
   "metadata": {},
   "outputs": [
    {
     "data": {
      "text/plain": [
       "{'Singapore': {'Hong Kong', 'New York', 'Osaka', 'Seoul', 'Shanghai', 'Tokyo'},\n",
       " 'Hong Kong': {'Beijing', 'Shanghai', 'Singapore'},\n",
       " 'Beijing': {'Hong Kong', 'Shanghai'},\n",
       " 'Shanghai': {'Beijing',\n",
       "  'Hong Kong',\n",
       "  'Los Angeles',\n",
       "  'New York',\n",
       "  'Osaka',\n",
       "  'Singapore',\n",
       "  'Sydney'},\n",
       " 'Seoul': {'Singapore', 'Tokyo'},\n",
       " 'Tokyo': {'Osaka', 'Seoul', 'Singapore'},\n",
       " 'Osaka': {'Shanghai', 'Singapore', 'Tokyo'},\n",
       " 'Los Angeles': {'New York', 'Shanghai', 'Sydney'},\n",
       " 'Sydney': {'Los Angeles', 'New York', 'Shanghai'},\n",
       " 'New York': {'Los Angeles', 'Shanghai', 'Singapore', 'Sydney'}}"
      ]
     },
     "execution_count": 5,
     "metadata": {},
     "output_type": "execute_result"
    }
   ],
   "source": [
    "# graph as adjacency list\n",
    "# is a dictionary, with values of set type\n",
    "graph10 = vis_graph10.get_adj_list()\n",
    "graph10"
   ]
  },
  {
   "cell_type": "code",
   "execution_count": 6,
   "metadata": {
    "scrolled": true
   },
   "outputs": [
    {
     "name": "stdout",
     "output_type": "stream",
     "text": [
      "Key / Source city:  Singapore\n",
      "Value / Dest city:  New York\n",
      "Value / Dest city:  Hong Kong\n",
      "Value / Dest city:  Shanghai\n",
      "Value / Dest city:  Tokyo\n",
      "Value / Dest city:  Seoul\n",
      "Value / Dest city:  Osaka\n",
      "Key / Source city:  Hong Kong\n",
      "Value / Dest city:  Beijing\n",
      "Value / Dest city:  Shanghai\n",
      "Value / Dest city:  Singapore\n",
      "Key / Source city:  Beijing\n",
      "Value / Dest city:  Hong Kong\n",
      "Value / Dest city:  Shanghai\n",
      "Key / Source city:  Shanghai\n",
      "Value / Dest city:  Los Angeles\n",
      "Value / Dest city:  New York\n",
      "Value / Dest city:  Singapore\n",
      "Value / Dest city:  Hong Kong\n",
      "Value / Dest city:  Sydney\n",
      "Value / Dest city:  Beijing\n",
      "Value / Dest city:  Osaka\n",
      "Key / Source city:  Seoul\n",
      "Value / Dest city:  Tokyo\n",
      "Value / Dest city:  Singapore\n",
      "Key / Source city:  Tokyo\n",
      "Value / Dest city:  Osaka\n",
      "Value / Dest city:  Seoul\n",
      "Value / Dest city:  Singapore\n",
      "Key / Source city:  Osaka\n",
      "Value / Dest city:  Singapore\n",
      "Value / Dest city:  Shanghai\n",
      "Value / Dest city:  Tokyo\n",
      "Key / Source city:  Los Angeles\n",
      "Value / Dest city:  Shanghai\n",
      "Value / Dest city:  New York\n",
      "Value / Dest city:  Sydney\n",
      "Key / Source city:  Sydney\n",
      "Value / Dest city:  Los Angeles\n",
      "Value / Dest city:  Shanghai\n",
      "Value / Dest city:  New York\n",
      "Key / Source city:  New York\n",
      "Value / Dest city:  Singapore\n",
      "Value / Dest city:  Los Angeles\n",
      "Value / Dest city:  Shanghai\n",
      "Value / Dest city:  Sydney\n"
     ]
    }
   ],
   "source": [
    "for src in graph10.keys():\n",
    "    print(\"Key / Source city: \", src)\n",
    "    for dest in graph10[src]:\n",
    "        print(\"Value / Dest city: \", dest)"
   ]
  },
  {
   "cell_type": "markdown",
   "metadata": {},
   "source": [
    "## Step 3 CPU times on graphs of different sizes"
   ]
  },
  {
   "cell_type": "code",
   "execution_count": null,
   "metadata": {},
   "outputs": [],
   "source": []
  },
  {
   "cell_type": "markdown",
   "metadata": {},
   "source": [
    "## Step 4 Depth-first search (DFS) algorithm "
   ]
  },
  {
   "cell_type": "code",
   "execution_count": null,
   "metadata": {},
   "outputs": [],
   "source": []
  }
 ],
 "metadata": {
  "kernelspec": {
   "display_name": "Python 3",
   "language": "python",
   "name": "python3"
  },
  "language_info": {
   "codemirror_mode": {
    "name": "ipython",
    "version": 3
   },
   "file_extension": ".py",
   "mimetype": "text/x-python",
   "name": "python",
   "nbconvert_exporter": "python",
   "pygments_lexer": "ipython3",
   "version": "3.7.1"
  }
 },
 "nbformat": 4,
 "nbformat_minor": 2
}
