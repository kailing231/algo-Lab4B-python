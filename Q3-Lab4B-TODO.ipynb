{
 "cells": [
  {
   "cell_type": "markdown",
   "metadata": {},
   "source": [
    "# Q3: Application of BFS to flight scheduling"
   ]
  },
  {
   "cell_type": "code",
   "execution_count": 1,
   "metadata": {},
   "outputs": [],
   "source": [
    "# import libraries\n",
    "\n",
    "import pandas as pd\n",
    "# visualise graph\n",
    "from pyvis import network as net\n",
    "import networkx as nx\n",
    "\n",
    "# import numpy as np\n",
    "# import matplotlib.pyplot as plt"
   ]
  },
  {
   "cell_type": "markdown",
   "metadata": {},
   "source": [
    "pyvis: https://pyvis.readthedocs.io/en/latest/tutorial.html\n",
    "https://pyvis.readthedocs.io/en/latest/documentation.html"
   ]
  },
  {
   "cell_type": "markdown",
   "metadata": {},
   "source": [
    "## Step 1 Representation of graph"
   ]
  },
  {
   "cell_type": "markdown",
   "metadata": {},
   "source": [
    "### graph10"
   ]
  },
  {
   "cell_type": "code",
   "execution_count": 12,
   "metadata": {
    "scrolled": true
   },
   "outputs": [
    {
     "name": "stdout",
     "output_type": "stream",
     "text": [
      "Num of nodes: 10\n",
      "Num of edges: 18\n"
     ]
    }
   ],
   "source": [
    "# graph with 10 cities\n",
    "df_cities_10 = pd.read_csv('data/cities10.csv')\n",
    "df_flights_10 = pd.read_csv('data/flights10.csv')\n",
    "\n",
    "print(\"Num of nodes:\", len(df_cities_10))\n",
    "print(\"Num of edges:\", len(df_flights_10))"
   ]
  },
  {
   "cell_type": "code",
   "execution_count": 3,
   "metadata": {},
   "outputs": [],
   "source": [
    "vis_graph10 = net.Network(notebook=True)\n",
    "\n",
    "# add nodes\n",
    "for city in df_cities_10['City']:\n",
    "    vis_graph10.add_node(city)\n",
    "    \n",
    "# add edges\n",
    "for i, flight in df_flights_10.iterrows():\n",
    "    vis_graph10.add_edge(flight['SrcCity'],flight['DestCity'])"
   ]
  },
  {
   "cell_type": "code",
   "execution_count": 4,
   "metadata": {},
   "outputs": [
    {
     "data": {
      "text/html": [
       "\n",
       "        <iframe\n",
       "            width=\"500px\"\n",
       "            height=\"500px\"\n",
       "            src=\"graph10.html\"\n",
       "            frameborder=\"0\"\n",
       "            allowfullscreen\n",
       "        ></iframe>\n",
       "        "
      ],
      "text/plain": [
       "<IPython.lib.display.IFrame at 0x24953a4e8d0>"
      ]
     },
     "execution_count": 4,
     "metadata": {},
     "output_type": "execute_result"
    }
   ],
   "source": [
    "# show graph\n",
    "vis_graph10.toggle_physics(False)\n",
    "vis_graph10.show(\"graph10.html\")"
   ]
  },
  {
   "cell_type": "markdown",
   "metadata": {},
   "source": [
    "### graph15"
   ]
  },
  {
   "cell_type": "code",
   "execution_count": 16,
   "metadata": {
    "scrolled": false
   },
   "outputs": [
    {
     "name": "stdout",
     "output_type": "stream",
     "text": [
      "Num of nodes: 15\n",
      "Num of edges: 29\n"
     ]
    },
    {
     "data": {
      "text/html": [
       "\n",
       "        <iframe\n",
       "            width=\"500px\"\n",
       "            height=\"500px\"\n",
       "            src=\"graph15.html\"\n",
       "            frameborder=\"0\"\n",
       "            allowfullscreen\n",
       "        ></iframe>\n",
       "        "
      ],
      "text/plain": [
       "<IPython.lib.display.IFrame at 0x24953c4c2e8>"
      ]
     },
     "execution_count": 16,
     "metadata": {},
     "output_type": "execute_result"
    }
   ],
   "source": [
    "# graph with 15 cities\n",
    "df_cities_15 = pd.read_csv('data/cities15.csv')\n",
    "df_flights_15 = pd.read_csv('data/flights15.csv')\n",
    "\n",
    "print(\"Num of nodes:\", len(df_cities_15))\n",
    "print(\"Num of edges:\", len(df_flights_15))\n",
    "\n",
    "vis_graph15 = net.Network(notebook=True)\n",
    "# add nodes\n",
    "for city in df_cities_15['City']:\n",
    "    vis_graph15.add_node(city)    \n",
    "# add edges\n",
    "for i, flight in df_flights_15.iterrows():\n",
    "    vis_graph15.add_edge(flight['SrcCity'],flight['DestCity'])\n",
    "    \n",
    "# show graph\n",
    "vis_graph15.toggle_physics(False)\n",
    "vis_graph15.show(\"graph15.html\")"
   ]
  },
  {
   "cell_type": "markdown",
   "metadata": {},
   "source": [
    "### graph20"
   ]
  },
  {
   "cell_type": "code",
   "execution_count": null,
   "metadata": {},
   "outputs": [],
   "source": []
  },
  {
   "cell_type": "markdown",
   "metadata": {},
   "source": [
    "## Step 2 Breadth-first search (BFS) "
   ]
  },
  {
   "cell_type": "code",
   "execution_count": 5,
   "metadata": {},
   "outputs": [],
   "source": [
    "# # graph as adjacency list\n",
    "# # is a dictionary, with values of set type\n",
    "# graph10 = vis_graph10.get_adj_list()\n",
    "# graph10"
   ]
  },
  {
   "cell_type": "code",
   "execution_count": 6,
   "metadata": {
    "scrolled": true
   },
   "outputs": [],
   "source": [
    "# for src in graph10.keys():\n",
    "#     print(\"Key / Source city: \", src)\n",
    "#     for dest in graph10[src]:\n",
    "#         print(\"Value / Dest city: \", dest)"
   ]
  },
  {
   "cell_type": "markdown",
   "metadata": {},
   "source": [
    "## Step 3 CPU times on graphs of different sizes"
   ]
  },
  {
   "cell_type": "markdown",
   "metadata": {},
   "source": [
    "## Step 4 Depth-first search (DFS) algorithm "
   ]
  }
 ],
 "metadata": {
  "kernelspec": {
   "display_name": "Python 3",
   "language": "python",
   "name": "python3"
  },
  "language_info": {
   "codemirror_mode": {
    "name": "ipython",
    "version": 3
   },
   "file_extension": ".py",
   "mimetype": "text/x-python",
   "name": "python",
   "nbconvert_exporter": "python",
   "pygments_lexer": "ipython3",
   "version": "3.7.1"
  }
 },
 "nbformat": 4,
 "nbformat_minor": 2
}
